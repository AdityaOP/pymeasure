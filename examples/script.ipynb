{
 "cells": [
  {
   "cell_type": "code",
   "execution_count": 5,
   "metadata": {
    "collapsed": false,
    "scrolled": true
   },
   "outputs": [
    {
     "name": "stdout",
     "output_type": "stream",
     "text": [
      "Overwriting my_config.ini\n"
     ]
    }
   ],
   "source": [
    "%%writefile my_config.ini\n",
    "[Filename]\n",
    "prefix = \n",
    "dated_folder = \n",
    "directory = data\n",
    "ext = csv\n",
    "index = \n",
    "datetimeformat = %Y%m%d_%H%M%S\n",
    "\n",
    "[Logging]\n",
    "console = 1\n",
    "console_level = INFO\n",
    "filename = test.log\n",
    "file_level = DEBUG\n",
    "\n",
    "[rcParams]\n",
    "figure.figsize = [6,4]"
   ]
  },
  {
   "cell_type": "code",
   "execution_count": 1,
   "metadata": {
    "collapsed": false
   },
   "outputs": [
    {
     "name": "stdout",
     "output_type": "stream",
     "text": [
      "Overwriting procedures.py\n"
     ]
    }
   ],
   "source": [
    "%%writefile procedures.py\n",
    "import random\n",
    "from time import sleep\n",
    "\n",
    "import logging\n",
    "log = logging.getLogger('')\n",
    "log.addHandler(logging.NullHandler())\n",
    "\n",
    "from pymeasure.experiment import Procedure, IntegerParameter, Parameter, FloatParameter\n",
    "\n",
    "class TestProcedure(Procedure):\n",
    "\n",
    "    iterations = IntegerParameter('Loop Iterations', default=100)\n",
    "    delay = FloatParameter('Delay Time', units='s', default=0.2)\n",
    "    seed = Parameter('Random Seed', default='12345')\n",
    "\n",
    "    DATA_COLUMNS = ['Iteration', 'Random Number']\n",
    "\n",
    "    def startup(self):\n",
    "        log.info(\"Setting up random number generator\")\n",
    "        random.seed(self.seed)\n",
    "\n",
    "    def execute(self):\n",
    "        log.info(\"Starting to generate numbers\")\n",
    "        for i in range(self.iterations):\n",
    "            data = {\n",
    "                'Iteration': i,\n",
    "                'Random Number': random.random()\n",
    "            }\n",
    "            log.debug(\"Produced numbers: %s\" % data)\n",
    "            self.emit('results', data)\n",
    "            self.emit('progress', 100.*i/self.iterations)\n",
    "            sleep(self.delay)\n",
    "            if self.should_stop():\n",
    "                log.warning(\"Catch stop command in procedure\")\n",
    "                break\n",
    "\n",
    "    def shutdown(self):\n",
    "        log.info(\"Finished\")"
   ]
  },
  {
   "cell_type": "code",
   "execution_count": 2,
   "metadata": {
    "collapsed": false
   },
   "outputs": [],
   "source": [
    "from procedures import TestProcedure\n",
    "from pymeasure.experiment import Experiment"
   ]
  },
  {
   "cell_type": "code",
   "execution_count": 3,
   "metadata": {
    "collapsed": false
   },
   "outputs": [
    {
     "name": "stderr",
     "output_type": "stream",
     "text": [
      "04:08:35 PM: Set up console logging (root, INFO)\n",
      "04:08:35 PM: Set up file logging (root, INFO)\n",
      "04:08:35 PM: Starting logger scribe (pymeasure.log, INFO)\n",
      "04:08:35 PM: Using data file: /Users/Guen/Development/pymeasure/examples/data/20160208_160835_test.csv (root, INFO)\n",
      "04:08:35 PM: Set up Results (root, INFO)\n",
      "04:08:35 PM: Create worker (root, INFO)\n"
     ]
    }
   ],
   "source": [
    "experiment = Experiment('test', TestProcedure(iterations=100, delay=.01))"
   ]
  },
  {
   "cell_type": "code",
   "execution_count": 4,
   "metadata": {
    "collapsed": false,
    "scrolled": true
   },
   "outputs": [
    {
     "name": "stderr",
     "output_type": "stream",
     "text": [
      "04:08:36 PM: Starting worker... (root, INFO)\n",
      "04:08:38 PM: Worker process started (root, INFO)\n",
      "04:08:38 PM: Worker started running an instance of 'TestProcedure' (root, INFO)\n",
      "04:08:38 PM: Setting up random number generator (root, INFO)\n",
      "04:08:38 PM: Starting to generate numbers (root, INFO)\n",
      "04:08:38 PM: Recording to file: /Users/Guen/Development/pymeasure/examples/data/20160208_160835_test.csv (pymeasure.experiment.listeners, INFO)\n",
      "04:08:39 PM: Finished (root, INFO)\n",
      "04:08:39 PM: Recorder caught stop command (pymeasure.experiment.listeners, INFO)\n"
     ]
    }
   ],
   "source": [
    "experiment.start()"
   ]
  },
  {
   "cell_type": "code",
   "execution_count": null,
   "metadata": {
    "collapsed": true
   },
   "outputs": [],
   "source": []
  }
 ],
 "metadata": {
  "kernelspec": {
   "display_name": "Python 3",
   "language": "python",
   "name": "python3"
  },
  "language_info": {
   "codemirror_mode": {
    "name": "ipython",
    "version": 3
   },
   "file_extension": ".py",
   "mimetype": "text/x-python",
   "name": "python",
   "nbconvert_exporter": "python",
   "pygments_lexer": "ipython3",
   "version": "3.5.0"
  }
 },
 "nbformat": 4,
 "nbformat_minor": 0
}
