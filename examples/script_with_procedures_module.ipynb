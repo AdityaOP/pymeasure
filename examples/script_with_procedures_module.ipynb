{
 "cells": [
  {
   "cell_type": "code",
   "execution_count": 1,
   "metadata": {
    "collapsed": false
   },
   "outputs": [],
   "source": [
    "import tempfile\n",
    "import logging\n",
    "log = logging.getLogger(__name__)\n",
    "log.addHandler(logging.NullHandler())\n",
    "\n",
    "from pymeasure.log import console_log\n",
    "from pymeasure.experiment import Results, Worker, unique_filename\n",
    "from procedures import TestProcedure"
   ]
  },
  {
   "cell_type": "markdown",
   "metadata": {},
   "source": [
    "worker logging"
   ]
  },
  {
   "cell_type": "code",
   "execution_count": 2,
   "metadata": {
    "collapsed": false,
    "scrolled": false
   },
   "outputs": [
    {
     "name": "stderr",
     "output_type": "stream",
     "text": [
      "03:28:13 PM: Using data file: /var/folders/b4/_nlty8h149b313rlrlslw13h0000gn/T/tmpsq2k04su (__main__, INFO)\n",
      "INFO:__main__:Using data file: /var/folders/b4/_nlty8h149b313rlrlslw13h0000gn/T/tmpsq2k04su\n",
      "03:28:13 PM: Set up TestProcedure with 10 iterations (__main__, INFO)\n",
      "INFO:__main__:Set up TestProcedure with 10 iterations\n",
      "03:28:13 PM: Set up Results (__main__, INFO)\n",
      "INFO:__main__:Set up Results\n",
      "03:28:13 PM: Created worker for TestProcedure (__main__, INFO)\n",
      "INFO:__main__:Created worker for TestProcedure\n",
      "03:28:13 PM: Starting worker... (__main__, INFO)\n",
      "INFO:__main__:Starting worker...\n",
      "03:28:13 PM: Joining with the worker in at most 20 min (__main__, INFO)\n",
      "INFO:__main__:Joining with the worker in at most 20 min\n",
      "03:28:14 PM: Worker has joined (__main__, INFO)\n",
      "INFO:__main__:Worker has joined\n",
      "03:28:14 PM: Stopping the logging (__main__, INFO)\n",
      "INFO:__main__:Stopping the logging\n"
     ]
    }
   ],
   "source": [
    "scribe = console_log(log, level=logging.DEBUG)\n",
    "scribe.start()\n",
    "\n",
    "filename = tempfile.mktemp()\n",
    "log.info(\"Using data file: %s\" % filename)\n",
    "\n",
    "procedure = TestProcedure()\n",
    "procedure.iterations = 10\n",
    "procedure.delay = 0.01\n",
    "log.info(\"Set up TestProcedure with %d iterations\" % procedure.iterations)\n",
    "\n",
    "results = Results(procedure, filename)\n",
    "log.info(\"Set up Results\")\n",
    "\n",
    "worker = Worker(results, scribe.queue)\n",
    "log.info(\"Created worker for TestProcedure\")\n",
    "log.info(\"Starting worker...\")\n",
    "worker.start()\n",
    "\n",
    "log.info(\"Joining with the worker in at most 20 min\")\n",
    "worker.join(60*20)\n",
    "log.info(\"Worker has joined\")\n",
    "\n",
    "log.info(\"Stopping the logging\")\n",
    "scribe.stop()"
   ]
  },
  {
   "cell_type": "code",
   "execution_count": 3,
   "metadata": {
    "collapsed": false
   },
   "outputs": [
    {
     "data": {
      "text/html": [
       "<div>\n",
       "<table border=\"1\" class=\"dataframe\">\n",
       "  <thead>\n",
       "    <tr style=\"text-align: right;\">\n",
       "      <th></th>\n",
       "      <th>Iteration</th>\n",
       "      <th>Random Number</th>\n",
       "    </tr>\n",
       "  </thead>\n",
       "  <tbody>\n",
       "    <tr>\n",
       "      <th>0</th>\n",
       "      <td>0</td>\n",
       "      <td>0.456978</td>\n",
       "    </tr>\n",
       "    <tr>\n",
       "      <th>1</th>\n",
       "      <td>1</td>\n",
       "      <td>0.730885</td>\n",
       "    </tr>\n",
       "    <tr>\n",
       "      <th>2</th>\n",
       "      <td>2</td>\n",
       "      <td>0.429307</td>\n",
       "    </tr>\n",
       "    <tr>\n",
       "      <th>3</th>\n",
       "      <td>3</td>\n",
       "      <td>0.451717</td>\n",
       "    </tr>\n",
       "    <tr>\n",
       "      <th>4</th>\n",
       "      <td>4</td>\n",
       "      <td>0.111348</td>\n",
       "    </tr>\n",
       "    <tr>\n",
       "      <th>5</th>\n",
       "      <td>5</td>\n",
       "      <td>0.602626</td>\n",
       "    </tr>\n",
       "    <tr>\n",
       "      <th>6</th>\n",
       "      <td>6</td>\n",
       "      <td>0.403370</td>\n",
       "    </tr>\n",
       "    <tr>\n",
       "      <th>7</th>\n",
       "      <td>7</td>\n",
       "      <td>0.112884</td>\n",
       "    </tr>\n",
       "    <tr>\n",
       "      <th>8</th>\n",
       "      <td>8</td>\n",
       "      <td>0.065779</td>\n",
       "    </tr>\n",
       "    <tr>\n",
       "      <th>9</th>\n",
       "      <td>9</td>\n",
       "      <td>0.656756</td>\n",
       "    </tr>\n",
       "  </tbody>\n",
       "</table>\n",
       "</div>"
      ],
      "text/plain": [
       "   Iteration  Random Number\n",
       "0          0       0.456978\n",
       "1          1       0.730885\n",
       "2          2       0.429307\n",
       "3          3       0.451717\n",
       "4          4       0.111348\n",
       "5          5       0.602626\n",
       "6          6       0.403370\n",
       "7          7       0.112884\n",
       "8          8       0.065779\n",
       "9          9       0.656756"
      ]
     },
     "execution_count": 3,
     "metadata": {},
     "output_type": "execute_result"
    }
   ],
   "source": [
    "results.data"
   ]
  },
  {
   "cell_type": "code",
   "execution_count": null,
   "metadata": {
    "collapsed": false
   },
   "outputs": [],
   "source": [
    "worker.is_alive()"
   ]
  },
  {
   "cell_type": "code",
   "execution_count": null,
   "metadata": {
    "collapsed": true
   },
   "outputs": [],
   "source": []
  }
 ],
 "metadata": {
  "kernelspec": {
   "display_name": "Python 3",
   "language": "python",
   "name": "python3"
  },
  "language_info": {
   "codemirror_mode": {
    "name": "ipython",
    "version": 3
   },
   "file_extension": ".py",
   "mimetype": "text/x-python",
   "name": "python",
   "nbconvert_exporter": "python",
   "pygments_lexer": "ipython3",
   "version": "3.5.0"
  }
 },
 "nbformat": 4,
 "nbformat_minor": 0
}
