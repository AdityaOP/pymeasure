{
 "cells": [
  {
   "cell_type": "markdown",
   "metadata": {},
   "source": [
    "# More features for ```Experiment``` class: custom config, `Measurable` parameter, `analysis` function\n",
    "\n",
    "This example uses the ```Experiment``` class to create a measurement from a ```procedure``` object, with the ```Measurable``` parameter to automatically generate sorted ```DATA_COLUMNS``` and ```MEASURE``` lists (which is then passed to the ```get_datapoint``` function of the ```Procedure``` class).\n",
    "\n",
    "The file ```my_config.ini``` is passed to set custom data saving, logging and matplotlib options.\n",
    "\n",
    "The ```analysis``` function is passed as an optional attribute, to produce on-the-fly data analysis for live plotting (only the raw data is saved on disk). To have analysed data save on disk, create an empty ```Measurable``` and update it in the ```measure``` loop as also shown in the example below."
   ]
  },
  {
   "cell_type": "code",
   "execution_count": 1,
   "metadata": {
    "collapsed": false
   },
   "outputs": [
    {
     "name": "stdout",
     "output_type": "stream",
     "text": [
      "Writing my_config.ini\n"
     ]
    }
   ],
   "source": [
    "%%writefile my_config.ini\n",
    "[Filename]\n",
    "prefix = my_data_\n",
    "dated_folder = 1\n",
    "directory = data\n",
    "ext = csv\n",
    "index = \n",
    "datetimeformat = %Y%m%d_%H%M%S\n",
    "\n",
    "[Logging]\n",
    "console = 1\n",
    "console_level = WARNING\n",
    "filename = test.log\n",
    "file_level = DEBUG\n",
    "\n",
    "[matplotlib.rcParams]\n",
    "axes.axisbelow = True\n",
    "axes.color_cycle = [(0.2980392156862745, 0.4470588235294118, 0.6901960784313725),\n",
    "                    (0.3333333333333333, 0.6588235294117647, 0.40784313725490196),\n",
    "                    (0.7686274509803922, 0.3058823529411765, 0.3215686274509804),\n",
    "                    (0.5058823529411764, 0.4470588235294118, 0.6980392156862745),\n",
    "                    (0.8, 0.7254901960784313, 0.4549019607843137),\n",
    "                    (0.39215686274509803, 0.7098039215686275, 0.803921568627451)]\n",
    "axes.edgecolor = 'white'\n",
    "axes.facecolor = '#EAEAF2'\n",
    "axes.grid = True\n",
    "axes.labelcolor = '.15'\n",
    "axes.labelsize = 11.0\n",
    "axes.linewidth = 0.0\n",
    "axes.titlesize = 12.0\n",
    "figure.facecolor = 'white'\n",
    "figure.figsize = [8.0, 5.5]\n",
    "font.sans-serif = ['Arial', 'Liberation Sans', 'Bitstream Vera Sans', 'sans-serif']\n",
    "grid.color = 'white'\n",
    "grid.linestyle = '-'\n",
    "grid.linewidth = 1.0\n",
    "image.cmap = 'Greys'\n",
    "legend.fontsize = 10.0\n",
    "legend.frameon = False\n",
    "legend.numpoints = 1\n",
    "legend.scatterpoints = 1\n",
    "lines.linewidth = 1.75\n",
    "lines.markeredgewidth = 0.0\n",
    "lines.markersize = 7.0\n",
    "lines.solid_capstyle = 'round'\n",
    "patch.facecolor = (0.2980392156862745, 0.4470588235294118, 0.6901960784313725)\n",
    "patch.linewidth = 0.3\n",
    "text.color = '.15'\n",
    "xtick.color = '.15'\n",
    "xtick.direction = 'out'\n",
    "xtick.labelsize = 10.0\n",
    "xtick.major.pad = 7.0\n",
    "xtick.major.size = 0.0\n",
    "xtick.major.width = 1.0\n",
    "xtick.minor.size = 0.0\n",
    "ytick.color = '.15'\n",
    "ytick.direction = 'out'\n",
    "ytick.labelsize = 10.0\n",
    "ytick.major.pad = 7.0\n",
    "ytick.major.size = 0.0\n",
    "ytick.major.width = 1.0\n",
    "ytick.minor.size = 0.0"
   ]
  },
  {
   "cell_type": "code",
   "execution_count": 2,
   "metadata": {
    "collapsed": false
   },
   "outputs": [
    {
     "name": "stdout",
     "output_type": "stream",
     "text": [
      "Writing procedures.py\n"
     ]
    }
   ],
   "source": [
    "%%writefile procedures.py\n",
    "import random\n",
    "from time import sleep\n",
    "\n",
    "import logging\n",
    "log = logging.getLogger('')\n",
    "log.addHandler(logging.NullHandler())\n",
    "\n",
    "from pymeasure.experiment import Procedure, IntegerParameter, Parameter, FloatParameter, Measurable\n",
    "\n",
    "class TestProcedure(Procedure):\n",
    "    \n",
    "    iterations = IntegerParameter('Loop Iterations', default=100)\n",
    "    delay = FloatParameter('Delay Time', units='s', default=0.2)\n",
    "    seed = Parameter('Random Seed', default='12345')\n",
    "    iteration = Measurable('Iteration', default = 0)\n",
    "    random_number = Measurable('Random Number', random.random)\n",
    "    offset = Measurable('Random Number + 1', default = 0)\n",
    "\n",
    "    def startup(self):\n",
    "        log.info(\"Setting up random number generator\")\n",
    "        random.seed(self.seed)\n",
    "        \n",
    "    def measure(self):\n",
    "        data = self.get_datapoint()\n",
    "        data['Random Number + 1'] = data['Random Number'] + 1\n",
    "        log.debug(\"Produced numbers: %s\" % data)\n",
    "        self.emit('results', data)\n",
    "        self.emit('progress', 100.*self.iteration.value/self.iterations)\n",
    "\n",
    "    def execute(self):\n",
    "        log.info(\"Starting to generate numbers\")\n",
    "        for self.iteration.value in range(self.iterations):\n",
    "            self.measure()\n",
    "            sleep(self.delay)\n",
    "            if self.should_stop():\n",
    "                log.warning(\"Catch stop command in procedure\")\n",
    "                break\n",
    "\n",
    "    def shutdown(self):\n",
    "        log.info(\"Finished\")"
   ]
  },
  {
   "cell_type": "code",
   "execution_count": 3,
   "metadata": {
    "collapsed": false
   },
   "outputs": [
    {
     "name": "stdout",
     "output_type": "stream",
     "text": [
      "Writing analysis.py\n"
     ]
    }
   ],
   "source": [
    "%%writefile analysis.py\n",
    "def add_offset(data, offset):\n",
    "    return data['Random Number'] + offset\n",
    "\n",
    "def analyse(data):\n",
    "    data['Random Number + 2'] = add_offset(data, 2)\n",
    "    return data"
   ]
  },
  {
   "cell_type": "code",
   "execution_count": 4,
   "metadata": {
    "collapsed": false
   },
   "outputs": [],
   "source": [
    "from pymeasure.experiment import Experiment, config\n",
    "from procedures import TestProcedure\n",
    "from analysis import analyse\n",
    "config.set_file('my_config.ini')\n",
    "%matplotlib inline"
   ]
  },
  {
   "cell_type": "code",
   "execution_count": 5,
   "metadata": {
    "collapsed": false,
    "scrolled": true
   },
   "outputs": [],
   "source": [
    "procedure = TestProcedure(iterations=10, delay=.1)\n",
    "experiment = Experiment('test', procedure, analyse)"
   ]
  },
  {
   "cell_type": "code",
   "execution_count": 6,
   "metadata": {
    "collapsed": false
   },
   "outputs": [
    {
     "data": {
      "image/png": "[encoded data removed]",
      "text/plain": [
       "<matplotlib.figure.Figure at 0x108d5f2e8>"
      ]
     },
     "metadata": {},
     "output_type": "display_data"
    }
   ],
   "source": [
    "experiment.start()\n",
    "experiment.plot_live('Iteration', 'Random Number + 1')"
   ]
  },
  {
   "cell_type": "markdown",
   "metadata": {},
   "source": [
    "Analysed data"
   ]
  },
  {
   "cell_type": "code",
   "execution_count": 7,
   "metadata": {
    "collapsed": false
   },
   "outputs": [
    {
     "data": {
      "text/html": [
       "<div>\n",
       "<table border=\"1\" class=\"dataframe\">\n",
       "  <thead>\n",
       "    <tr style=\"text-align: right;\">\n",
       "      <th></th>\n",
       "      <th>Iteration</th>\n",
       "      <th>Random Number</th>\n",
       "      <th>Random Number + 1</th>\n",
       "      <th>Random Number + 2</th>\n",
       "    </tr>\n",
       "  </thead>\n",
       "  <tbody>\n",
       "    <tr>\n",
       "      <th>0</th>\n",
       "      <td>0</td>\n",
       "      <td>0.456978</td>\n",
       "      <td>1.456978</td>\n",
       "      <td>2.456978</td>\n",
       "    </tr>\n",
       "    <tr>\n",
       "      <th>1</th>\n",
       "      <td>1</td>\n",
       "      <td>0.730885</td>\n",
       "      <td>1.730885</td>\n",
       "      <td>2.730885</td>\n",
       "    </tr>\n",
       "    <tr>\n",
       "      <th>2</th>\n",
       "      <td>2</td>\n",
       "      <td>0.429307</td>\n",
       "      <td>1.429307</td>\n",
       "      <td>2.429307</td>\n",
       "    </tr>\n",
       "    <tr>\n",
       "      <th>3</th>\n",
       "      <td>3</td>\n",
       "      <td>0.451717</td>\n",
       "      <td>1.451717</td>\n",
       "      <td>2.451717</td>\n",
       "    </tr>\n",
       "    <tr>\n",
       "      <th>4</th>\n",
       "      <td>4</td>\n",
       "      <td>0.111348</td>\n",
       "      <td>1.111348</td>\n",
       "      <td>2.111348</td>\n",
       "    </tr>\n",
       "    <tr>\n",
       "      <th>5</th>\n",
       "      <td>5</td>\n",
       "      <td>0.602626</td>\n",
       "      <td>1.602626</td>\n",
       "      <td>2.602626</td>\n",
       "    </tr>\n",
       "    <tr>\n",
       "      <th>6</th>\n",
       "      <td>6</td>\n",
       "      <td>0.403370</td>\n",
       "      <td>1.403370</td>\n",
       "      <td>2.403370</td>\n",
       "    </tr>\n",
       "    <tr>\n",
       "      <th>7</th>\n",
       "      <td>7</td>\n",
       "      <td>0.112884</td>\n",
       "      <td>1.112884</td>\n",
       "      <td>2.112884</td>\n",
       "    </tr>\n",
       "    <tr>\n",
       "      <th>8</th>\n",
       "      <td>8</td>\n",
       "      <td>0.065779</td>\n",
       "      <td>1.065779</td>\n",
       "      <td>2.065779</td>\n",
       "    </tr>\n",
       "    <tr>\n",
       "      <th>9</th>\n",
       "      <td>9</td>\n",
       "      <td>0.656756</td>\n",
       "      <td>1.656756</td>\n",
       "      <td>2.656756</td>\n",
       "    </tr>\n",
       "  </tbody>\n",
       "</table>\n",
       "</div>"
      ],
      "text/plain": [
       "   Iteration  Random Number  Random Number + 1  Random Number + 2\n",
       "0          0       0.456978           1.456978           2.456978\n",
       "1          1       0.730885           1.730885           2.730885\n",
       "2          2       0.429307           1.429307           2.429307\n",
       "3          3       0.451717           1.451717           2.451717\n",
       "4          4       0.111348           1.111348           2.111348\n",
       "5          5       0.602626           1.602626           2.602626\n",
       "6          6       0.403370           1.403370           2.403370\n",
       "7          7       0.112884           1.112884           2.112884\n",
       "8          8       0.065779           1.065779           2.065779\n",
       "9          9       0.656756           1.656756           2.656756"
      ]
     },
     "execution_count": 7,
     "metadata": {},
     "output_type": "execute_result"
    }
   ],
   "source": [
    "experiment.data"
   ]
  },
  {
   "cell_type": "markdown",
   "metadata": {},
   "source": [
    "Raw data (as saved on disk)"
   ]
  },
  {
   "cell_type": "code",
   "execution_count": 8,
   "metadata": {
    "collapsed": false,
    "scrolled": true
   },
   "outputs": [
    {
     "data": {
      "text/html": [
       "<div>\n",
       "<table border=\"1\" class=\"dataframe\">\n",
       "  <thead>\n",
       "    <tr style=\"text-align: right;\">\n",
       "      <th></th>\n",
       "      <th>Iteration</th>\n",
       "      <th>Random Number</th>\n",
       "      <th>Random Number + 1</th>\n",
       "    </tr>\n",
       "  </thead>\n",
       "  <tbody>\n",
       "    <tr>\n",
       "      <th>0</th>\n",
       "      <td>0</td>\n",
       "      <td>0.456978</td>\n",
       "      <td>1.456978</td>\n",
       "    </tr>\n",
       "    <tr>\n",
       "      <th>1</th>\n",
       "      <td>1</td>\n",
       "      <td>0.730885</td>\n",
       "      <td>1.730885</td>\n",
       "    </tr>\n",
       "    <tr>\n",
       "      <th>2</th>\n",
       "      <td>2</td>\n",
       "      <td>0.429307</td>\n",
       "      <td>1.429307</td>\n",
       "    </tr>\n",
       "    <tr>\n",
       "      <th>3</th>\n",
       "      <td>3</td>\n",
       "      <td>0.451717</td>\n",
       "      <td>1.451717</td>\n",
       "    </tr>\n",
       "    <tr>\n",
       "      <th>4</th>\n",
       "      <td>4</td>\n",
       "      <td>0.111348</td>\n",
       "      <td>1.111348</td>\n",
       "    </tr>\n",
       "    <tr>\n",
       "      <th>5</th>\n",
       "      <td>5</td>\n",
       "      <td>0.602626</td>\n",
       "      <td>1.602626</td>\n",
       "    </tr>\n",
       "    <tr>\n",
       "      <th>6</th>\n",
       "      <td>6</td>\n",
       "      <td>0.403370</td>\n",
       "      <td>1.403370</td>\n",
       "    </tr>\n",
       "    <tr>\n",
       "      <th>7</th>\n",
       "      <td>7</td>\n",
       "      <td>0.112884</td>\n",
       "      <td>1.112884</td>\n",
       "    </tr>\n",
       "    <tr>\n",
       "      <th>8</th>\n",
       "      <td>8</td>\n",
       "      <td>0.065779</td>\n",
       "      <td>1.065779</td>\n",
       "    </tr>\n",
       "    <tr>\n",
       "      <th>9</th>\n",
       "      <td>9</td>\n",
       "      <td>0.656756</td>\n",
       "      <td>1.656756</td>\n",
       "    </tr>\n",
       "  </tbody>\n",
       "</table>\n",
       "</div>"
      ],
      "text/plain": [
       "   Iteration  Random Number  Random Number + 1\n",
       "0          0       0.456978           1.456978\n",
       "1          1       0.730885           1.730885\n",
       "2          2       0.429307           1.429307\n",
       "3          3       0.451717           1.451717\n",
       "4          4       0.111348           1.111348\n",
       "5          5       0.602626           1.602626\n",
       "6          6       0.403370           1.403370\n",
       "7          7       0.112884           1.112884\n",
       "8          8       0.065779           1.065779\n",
       "9          9       0.656756           1.656756"
      ]
     },
     "execution_count": 8,
     "metadata": {},
     "output_type": "execute_result"
    }
   ],
   "source": [
    "experiment.results.data"
   ]
  },
  {
   "cell_type": "markdown",
   "metadata": {},
   "source": [
    "Filename generated by config preferences"
   ]
  },
  {
   "cell_type": "code",
   "execution_count": 9,
   "metadata": {
    "collapsed": false
   },
   "outputs": [
    {
     "data": {
      "text/plain": [
       "'/Users/Guen/Development/pymeasure/examples/data/2016-02-10/my_data_20160210_133802_test.csv'"
      ]
     },
     "execution_count": 9,
     "metadata": {},
     "output_type": "execute_result"
    }
   ],
   "source": [
    "experiment.filename"
   ]
  },
  {
   "cell_type": "code",
   "execution_count": null,
   "metadata": {
    "collapsed": true
   },
   "outputs": [],
   "source": []
  }
 ],
 "metadata": {
  "kernelspec": {
   "display_name": "Python 3",
   "language": "python",
   "name": "python3"
  },
  "language_info": {
   "codemirror_mode": {
    "name": "ipython",
    "version": 3
   },
   "file_extension": ".py",
   "mimetype": "text/x-python",
   "name": "python",
   "nbconvert_exporter": "python",
   "pygments_lexer": "ipython3",
   "version": "3.5.0"
  }
 },
 "nbformat": 4,
 "nbformat_minor": 0
}
